{
 "cells": [
  {
   "cell_type": "code",
   "execution_count": 2,
   "metadata": {},
   "outputs": [],
   "source": [
    "import sys\n",
    "sys.path.append(\"../../\")\n",
    "import pandas as pd\n",
    "import numpy as np\n",
    "import matplotlib.pyplot as plt\n",
    "from scipy.integrate import odeint\n",
    "from example_pendulum import get_pendulum_data, pendulum_to_movie\n",
    "import os\n",
    "import pickle\n",
    "from autoencoder import FullNetwork as FullNetwork\n",
    "import torch\n",
    "from training import prepare_data\n",
    "from sindy_utils import sindy_simulate\n",
    "from sindy_utils import sindy_simulate_order2\n",
    "\n",
    "data_path = os.getcwd() + '\\\\'\n",
    "save_name = 'pendulum_2024_05_28_17_52_35_042480'\n",
    "# save_name = 'model1'\n",
    "params = pickle.load(open(data_path + save_name + '_params.pkl', 'rb'))\n",
    "params['save_name'] = data_path + save_name\n",
    "# dataframe = pd.read_pickle('model1_params.pkl')\n",
    "# print(dataframe)\n",
    "# print(dataframe['coefficient_mask'])\n",
    "\n",
    "def convert_to_cpu_numpy(obj):\n",
    "    \"\"\"\n",
    "    Recursively convert torch.Tensor objects to numpy arrays,\n",
    "    handling dictionaries and lists.\n",
    "    \n",
    "    Parameters:\n",
    "    obj (any): The object to convert, which could be a tensor, list, or dictionary.\n",
    "\n",
    "    Returns:\n",
    "    any: The converted object with tensors replaced by numpy arrays.\n",
    "    \"\"\"\n",
    "    if isinstance(obj, torch.Tensor):\n",
    "        return obj.cpu().numpy()  #\n",
    "    elif isinstance(obj, dict):\n",
    "        #\n",
    "        return {k: convert_to_cpu_numpy(v) for k, v in obj.items()}\n",
    "    elif isinstance(obj, list):\n",
    "        # \n",
    "        return [convert_to_cpu_numpy(v) for v in obj]\n",
    "    else:\n",
    "        return obj  \n",
    "# dataframe['coefficient_mask'] = dataframe['coefficient_mask'].apply(convert_to_cpu_numpy)\n",
    "# dataframe['sindy_coefficients'] = dataframe['sindy_coefficients'].apply(convert_to_cpu_numpy)\n",
    "\n",
    "\n",
    "# Xi_plot = np.array(dataframe['coefficient_mask']*dataframe['sindy_coefficients'])[0]\n",
    "# sindy_coefficients = np.array(dataframe['sindy_coefficients'])[0]\n",
    "# coefficient_mask = np.array(dataframe['coefficient_mask'])[0]\n",
    "# print(dataframe['coefficient_mask'][0])\n",
    "   "
   ]
  },
  {
   "cell_type": "code",
   "execution_count": 3,
   "metadata": {},
   "outputs": [
    {
     "name": "stdout",
     "output_type": "stream",
     "text": [
      "[[ 1.26862171e-04]\n",
      " [-8.95674229e-01]\n",
      " [ 3.96408032e-05]\n",
      " [ 6.13733642e-02]\n",
      " [-7.11527173e-06]\n",
      " [-7.25442544e-02]\n",
      " [ 1.01257354e-01]\n",
      " [-2.15294218e-04]\n",
      " [-6.18480044e-06]\n",
      " [ 8.85150002e-05]\n",
      " [-1.67947641e-04]\n",
      " [ 4.30316053e-04]]\n",
      "[[ 1.26862171e-04]\n",
      " [-8.95674229e-01]\n",
      " [ 3.96408032e-05]\n",
      " [ 6.13733642e-02]\n",
      " [-7.11527173e-06]\n",
      " [-7.25442544e-02]\n",
      " [ 1.01257354e-01]\n",
      " [-2.15294218e-04]\n",
      " [-6.18480044e-06]\n",
      " [ 8.85150002e-05]\n",
      " [-1.67947641e-04]\n",
      " [ 4.30316053e-04]]\n",
      "[[1.]\n",
      " [1.]\n",
      " [1.]\n",
      " [1.]\n",
      " [1.]\n",
      " [1.]\n",
      " [1.]\n",
      " [1.]\n",
      " [1.]\n",
      " [1.]\n",
      " [1.]\n",
      " [1.]]\n"
     ]
    }
   ],
   "source": [
    "params['device'] = 'cuda:0'\n",
    "autoencoder_network = FullNetwork(params).to(params['device'])\n",
    "path = data_path + 'pendulum_2024_05_28_17_52_35_042480.pth'\n",
    "state_dict = torch.load(path)\n",
    "# print state_dict values\n",
    "# for key in state_dict:\n",
    "#     print(key)\n",
    "#     print(state_dict[key])\n",
    "autoencoder_network.load_state_dict(state_dict)\n",
    "\n",
    "Xi_plot = np.array(state_dict['coefficient_mask']*state_dict['sindy_coefficients'])\n",
    "print(Xi_plot)\n",
    "sindy_coefficients = np.array(state_dict['sindy_coefficients'])\n",
    "print(sindy_coefficients)\n",
    "coefficient_mask = np.array(state_dict['coefficient_mask'])\n",
    "print(coefficient_mask)"
   ]
  },
  {
   "cell_type": "markdown",
   "metadata": {},
   "source": [
    "SIngle plot"
   ]
  },
  {
   "cell_type": "code",
   "execution_count": 4,
   "metadata": {},
   "outputs": [],
   "source": [
    "t = np.arange(0, 20, .02)\n",
    "z0s = np.pi/np.array([1.5,2,3,4,8,16])\n",
    "dz0s = .5*np.ones(z0s.shape)\n",
    "\n",
    "f  = lambda z, t : [z[1], -np.sin(z[0])]\n",
    "n_ics = z0s.size\n",
    "\n",
    "z = np.zeros((n_ics,t.size,2))\n",
    "dz = np.zeros(z.shape)\n",
    "for i in range(n_ics):\n",
    "    z[i] = odeint(f, [z0s[i],dz0s[i]], t)\n",
    "    dz[i] = np.array([f(z[i,j], t[j]) for j in range(len(t))])\n",
    "    \n",
    "x,dx,ddx = pendulum_to_movie(z,dz)"
   ]
  },
  {
   "cell_type": "code",
   "execution_count": 5,
   "metadata": {},
   "outputs": [],
   "source": [
    "test_data = {}\n",
    "test_data['x'] = x.reshape((-1,params['input_dim']))\n",
    "test_data['dx'] = dx.reshape((-1,params['input_dim']))\n",
    "test_data['ddx'] = ddx.reshape((-1,params['input_dim']))\n",
    "test_data['z'] = z[:,:,0].reshape((-1,params['latent_dim']))\n",
    "test_data['dz'] = z[:,:,1].reshape((-1,params['latent_dim']))\n",
    "test_data['ddz'] = dz[:,:,1].reshape((-1,params['latent_dim']))"
   ]
  },
  {
   "cell_type": "code",
   "execution_count": 6,
   "metadata": {},
   "outputs": [
    {
     "name": "stdout",
     "output_type": "stream",
     "text": [
      "ddz torch.Size([6000, 2601]) torch.Size([128, 2601])\n",
      "sigmoid_derivative shape: torch.Size([6000, 128])\n",
      "ddz_temp shape: torch.Size([6000, 128])\n",
      "dz_temp shape: torch.Size([6000, 128])\n",
      "term1 shape: torch.Size([6000, 128])\n",
      "term2 shape: torch.Size([6000, 128])\n",
      "ddz torch.Size([6000, 128]) torch.Size([64, 128])\n",
      "sigmoid_derivative shape: torch.Size([6000, 64])\n",
      "ddz_temp shape: torch.Size([6000, 64])\n",
      "dz_temp shape: torch.Size([6000, 64])\n",
      "term1 shape: torch.Size([6000, 64])\n",
      "term2 shape: torch.Size([6000, 64])\n",
      "ddz torch.Size([6000, 64]) torch.Size([32, 64])\n",
      "sigmoid_derivative shape: torch.Size([6000, 32])\n",
      "ddz_temp shape: torch.Size([6000, 32])\n",
      "dz_temp shape: torch.Size([6000, 32])\n",
      "term1 shape: torch.Size([6000, 32])\n",
      "term2 shape: torch.Size([6000, 32])\n",
      "theta torch.Size([6000, 12])\n",
      "torch.Size([12, 1]) torch.Size([12, 1])\n",
      "z torch.Size([6000, 1])\n",
      "ddz torch.Size([6000, 1]) torch.Size([32, 1])\n",
      "sigmoid_derivative shape: torch.Size([6000, 32])\n",
      "ddz_temp shape: torch.Size([6000, 32])\n",
      "dz_temp shape: torch.Size([6000, 32])\n",
      "term1 shape: torch.Size([6000, 32])\n",
      "term2 shape: torch.Size([6000, 32])\n",
      "ddz torch.Size([6000, 32]) torch.Size([64, 32])\n",
      "sigmoid_derivative shape: torch.Size([6000, 64])\n",
      "ddz_temp shape: torch.Size([6000, 64])\n",
      "dz_temp shape: torch.Size([6000, 64])\n",
      "term1 shape: torch.Size([6000, 64])\n",
      "term2 shape: torch.Size([6000, 64])\n",
      "ddz torch.Size([6000, 64]) torch.Size([128, 64])\n",
      "sigmoid_derivative shape: torch.Size([6000, 128])\n",
      "ddz_temp shape: torch.Size([6000, 128])\n",
      "dz_temp shape: torch.Size([6000, 128])\n",
      "term1 shape: torch.Size([6000, 128])\n",
      "term2 shape: torch.Size([6000, 128])\n"
     ]
    },
    {
     "name": "stderr",
     "output_type": "stream",
     "text": [
      "C:\\Users\\zhaox\\AppData\\Local\\Temp\\ipykernel_23600\\4246565283.py:17: UserWarning: To copy construct from a tensor, it is recommended to use sourceTensor.clone().detach() or sourceTensor.clone().detach().requires_grad_(True), rather than torch.tensor(sourceTensor).\n",
      "  test_dictionary_[key] = torch.tensor(test_dictionary[key], requires_grad=True).to(device)\n"
     ]
    }
   ],
   "source": [
    "device = torch.device('cuda' if torch.cuda.is_available() else 'cpu')\n",
    "\n",
    "model = autoencoder_network\n",
    "model.load_state_dict(state_dict)\n",
    "model.eval()  \n",
    "\n",
    "\n",
    "test_dictionary = prepare_data(test_data,params,device)\n",
    "\n",
    "\n",
    "test_dictionary_ = {}\n",
    "# for key in test_dictionary:\n",
    "#     if key == \"x\" or key ==\"dx\" or key == \"ddx\":\n",
    "#         test_dictionary_[key] = torch.tensor(test_dictionary[key]).to(device)\n",
    "for key in test_dictionary:\n",
    "    if key == \"x\" or key ==\"dx\" or key == \"ddx\":\n",
    "        test_dictionary_[key] = torch.tensor(test_dictionary[key], requires_grad=True).to(device)\n",
    "\n",
    "with torch.no_grad():  \n",
    "    torch_results = model(**test_dictionary_)\n",
    "\n",
    "test_set_results = []\n",
    "for i, output in enumerate(torch_results):\n",
    "    test_set_results.append(output.cpu().detach().numpy())\n",
    "\n",
    "#  z, x_decode, dz, dx_decode, ddz, x, dx,self.sindy_coefficients, ddx_decode, sindy_predict, ddx"
   ]
  },
  {
   "cell_type": "code",
   "execution_count": 7,
   "metadata": {},
   "outputs": [],
   "source": [
    "true_coefficients = np.zeros(test_set_results[7].shape)\n",
    "true_coefficients[-2] = -1.\n",
    "\n",
    "z_sim = np.zeros((n_ics, t.size, 2))\n",
    "pendulum_sim = np.zeros(z_sim.shape)\n",
    "for i in range(n_ics):\n",
    "    z_sim[i] = sindy_simulate_order2(test_set_results[0][i*t.size], test_set_results[2][i*t.size], t,\n",
    "                                     params['coefficient_mask']*test_set_results[7],\n",
    "                                     params['poly_order'], params['include_sine'])\n",
    "    pendulum_sim[i] = sindy_simulate_order2(test_data['z'][i*t.size], test_data['dz'][i*t.size], t,\n",
    "                                            true_coefficients,\n",
    "                                            params['poly_order'], params['include_sine'])"
   ]
  },
  {
   "cell_type": "code",
   "execution_count": 8,
   "metadata": {},
   "outputs": [
    {
     "data": {
      "text/plain": [
       "([], [])"
      ]
     },
     "execution_count": 8,
     "metadata": {},
     "output_type": "execute_result"
    },
    {
     "data": {
      "image/png": "[encoded data removed]",
      "text/plain": [
       "<Figure size 400x300 with 1 Axes>"
      ]
     },
     "metadata": {},
     "output_type": "display_data"
    },
    {
     "data": {
      "image/png": "[encoded data removed]",
      "text/plain": [
       "<Figure size 400x300 with 1 Axes>"
      ]
     },
     "metadata": {},
     "output_type": "display_data"
    }
   ],
   "source": [
    "plt.figure(figsize=(4,3))\n",
    "plt.plot(z_sim[:,:,0].T, z_sim[:,:,1].T, linewidth=2, color='#2071B1')\n",
    "plt.axis('equal')\n",
    "plt.axis('off')\n",
    "plt.xticks([])\n",
    "plt.yticks([])\n",
    "\n",
    "plt.figure(figsize=(4,3))\n",
    "plt.plot(pendulum_sim[:,:,0].T, pendulum_sim[:,:,1].T, linewidth=2, color='#2071B1')\n",
    "plt.axis('equal')\n",
    "plt.axis('off')\n",
    "plt.xticks([])\n",
    "plt.yticks([])"
   ]
  },
  {
   "cell_type": "code",
   "execution_count": 9,
   "metadata": {},
   "outputs": [
    {
     "name": "stderr",
     "output_type": "stream",
     "text": [
      "C:\\Users\\zhaox\\AppData\\Local\\Temp\\ipykernel_23600\\2145945778.py:5: UserWarning: color is redundantly defined by the 'color' keyword argument and the fmt string \"k\" (-> color=(0.0, 0.0, 0.0, 1)). The keyword argument will take precedence.\n",
      "  plt.plot(test_set_results[0][ic_idx*t.size:(ic_idx+1)*t.size,0], 'k', color='#888888', linewidth=2)\n"
     ]
    },
    {
     "data": {
      "text/plain": [
       "(-49.95, 1048.95, -1.9330631494522095, 1.7740222215652466)"
      ]
     },
     "execution_count": 9,
     "metadata": {},
     "output_type": "execute_result"
    },
    {
     "data": {
      "image/png": "[encoded data removed]",
      "text/plain": [
       "<Figure size 300x200 with 1 Axes>"
      ]
     },
     "metadata": {},
     "output_type": "display_data"
    }
   ],
   "source": [
    "\n",
    "ic_idx = 1\n",
    "\n",
    "plt.figure(figsize=(3,2))\n",
    "plt.subplot(2,1,1)\n",
    "plt.plot(test_set_results[0][ic_idx*t.size:(ic_idx+1)*t.size,0], 'k', color='#888888', linewidth=2)\n",
    "plt.plot(z_sim[ic_idx,:,0], '--', linewidth=2)\n",
    "plt.xticks([])\n",
    "plt.yticks([])\n",
    "plt.axis('off')"
   ]
  }
 ],
 "metadata": {
  "kernelspec": {
   "display_name": "deep_learning",
   "language": "python",
   "name": "python3"
  },
  "language_info": {
   "codemirror_mode": {
    "name": "ipython",
    "version": 3
   },
   "file_extension": ".py",
   "mimetype": "text/x-python",
   "name": "python",
   "nbconvert_exporter": "python",
   "pygments_lexer": "ipython3",
   "version": "3.10.13"
  }
 },
 "nbformat": 4,
 "nbformat_minor": 2
}
