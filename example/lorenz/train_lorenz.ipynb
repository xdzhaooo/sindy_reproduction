{
 "cells": [
  {
   "cell_type": "code",
   "execution_count": 2,
   "metadata": {},
   "outputs": [],
   "source": [
    "import sys\n",
    "sys.path.append(\"../../\")\n",
    "import os\n",
    "import datetime\n",
    "import pandas as pd\n",
    "import numpy as np\n",
    "from example_lorenz import get_lorenz_data\n",
    "from sindy_utils import library_size\n",
    "from training import train_network\n",
    "import torch"
   ]
  },
  {
   "cell_type": "markdown",
   "metadata": {},
   "source": [
    "# Generate data"
   ]
  },
  {
   "cell_type": "code",
   "execution_count": 3,
   "metadata": {
    "collapsed": true
   },
   "outputs": [],
   "source": [
    "# # generate training, validation, testing data\n",
    "# noise_strength = 1e-6\n",
    "# training_data = get_lorenz_data(100, noise_strength=noise_strength) #1024\n",
    "# validation_data = get_lorenz_data(10, noise_strength=noise_strength) #20\n",
    "\n"
   ]
  },
  {
   "cell_type": "code",
   "execution_count": 4,
   "metadata": {},
   "outputs": [],
   "source": [
    "# Function to convert data to tensors and move to GPU\n",
    "def convert_to_tensors(data_dict, device):\n",
    "    for key, value in data_dict.items():\n",
    "        if value is not None:\n",
    "            data_dict[key] = torch.tensor(value).float().to(device)\n",
    "    return data_dict\n",
    "\n",
    "# Generate training, validation data\n",
    "noise_strength = 1e-6\n",
    "training_data = get_lorenz_data(1024, noise_strength=noise_strength) # 1024\n",
    "validation_data = get_lorenz_data(20, noise_strength=noise_strength) # 20\n",
    "\n",
    "# Specify the device\n",
    "device = 'cuda' if torch.cuda.is_available() else 'cpu'\n",
    "\n",
    "# Convert training and validation data to tensors and move to GPU\n",
    "training_data = convert_to_tensors(training_data, device)\n",
    "validation_data = convert_to_tensors(validation_data, device)\n",
    "\n",
    "# If 'ddx' is required and should be set to None\n",
    "training_data['ddx'] = None\n",
    "validation_data['ddx'] = None"
   ]
  },
  {
   "cell_type": "markdown",
   "metadata": {},
   "source": [
    "# Set up model and training parameters"
   ]
  },
  {
   "cell_type": "code",
   "execution_count": 5,
   "metadata": {
    "collapsed": true
   },
   "outputs": [
    {
     "name": "stdout",
     "output_type": "stream",
     "text": [
      "256000\n"
     ]
    }
   ],
   "source": [
    "params = {}\n",
    "\n",
    "params['input_dim'] = 128\n",
    "params['latent_dim'] = 3\n",
    "params['model_order'] = 1\n",
    "params['poly_order'] = 3\n",
    "params['include_sine'] = False\n",
    "params['library_dim'] = library_size(params['latent_dim'], params['poly_order'], params['include_sine'], True)\n",
    "\n",
    "# sequential thresholding parameters\n",
    "params['sequential_thresholding'] = True\n",
    "params['coefficient_threshold'] = 0.1\n",
    "params['threshold_frequency'] = 1\n",
    "params['coefficient_mask'] = torch.ones((params['library_dim'], params['latent_dim']))\n",
    "#print('params[coefficient_mask]:', params['coefficient_mask'].shape)\n",
    "params['coefficient_initialization'] = 'constant'\n",
    "\n",
    "# loss function weighting\n",
    "params['loss_weight_decoder'] = 1.0\n",
    "params['loss_weight_sindy_z'] = 0.0\n",
    "params['loss_weight_sindy_x'] = 1e-4\n",
    "params['loss_weight_sindy_regularization'] = 1e-5\n",
    "\n",
    "params['activation'] = 'sigmoid'\n",
    "params['widths'] = [64,32]\n",
    "\n",
    "# training parameters\n",
    "params['epoch_size'] = training_data['x'].shape[0]\n",
    "print(params['epoch_size'])\n",
    "params['batch_size'] = 1024 #1024\n",
    "params['learning_rate'] = 1e-3\n",
    "\n",
    "params['data_path'] = os.getcwd() + '/'\n",
    "params['print_progress'] = True\n",
    "params['print_frequency'] = 1\n",
    "\n",
    "# training time cutoffs\n",
    "params['max_epochs'] = 5 #5001\n",
    "params['refinement_epochs'] = 1 #1001"
   ]
  },
  {
   "cell_type": "markdown",
   "metadata": {},
   "source": [
    "# Run training experiments"
   ]
  },
  {
   "cell_type": "code",
   "execution_count": 6,
   "metadata": {},
   "outputs": [
    {
     "name": "stdout",
     "output_type": "stream",
     "text": [
      "EXPERIMENT 0\n"
     ]
    },
    {
     "name": "stderr",
     "output_type": "stream",
     "text": [
      "c:\\Users\\zhaox\\OneDrive - Delft University of Technology\\桌面\\Q4\\reproductory\\report\\repo_sindy-main\\torch_result\\lorenz\\../..\\training.py:224: UserWarning: To copy construct from a tensor, it is recommended to use sourceTensor.clone().detach() or sourceTensor.clone().detach().requires_grad_(True), rather than torch.tensor(sourceTensor).\n",
      "  'x': torch.tensor(data['x'][idxs], dtype=torch.float32).to(device),\n",
      "c:\\Users\\zhaox\\OneDrive - Delft University of Technology\\桌面\\Q4\\reproductory\\report\\repo_sindy-main\\torch_result\\lorenz\\../..\\training.py:225: UserWarning: To copy construct from a tensor, it is recommended to use sourceTensor.clone().detach() or sourceTensor.clone().detach().requires_grad_(True), rather than torch.tensor(sourceTensor).\n",
      "  'dx': torch.tensor(data['dx'][idxs], dtype=torch.float32).to(device)\n",
      "c:\\Users\\zhaox\\OneDrive - Delft University of Technology\\桌面\\Q4\\reproductory\\report\\repo_sindy-main\\torch_result\\lorenz\\../..\\training.py:232: UserWarning: To copy construct from a tensor, it is recommended to use sourceTensor.clone().detach() or sourceTensor.clone().detach().requires_grad_(True), rather than torch.tensor(sourceTensor).\n",
      "  data_dict['coefficient_mask'] = torch.tensor(params['coefficient_mask'], dtype=torch.float32).to(device)\n",
      "c:\\Users\\zhaox\\OneDrive - Delft University of Technology\\桌面\\Q4\\reproductory\\report\\repo_sindy-main\\torch_result\\lorenz\\../..\\training.py:17: UserWarning: To copy construct from a tensor, it is recommended to use sourceTensor.clone().detach() or sourceTensor.clone().detach().requires_grad_(True), rather than torch.tensor(sourceTensor).\n",
      "  x_tensor = torch.tensor(val_data['x'], dtype=torch.float32).to(device)\n",
      "c:\\Users\\zhaox\\OneDrive - Delft University of Technology\\桌面\\Q4\\reproductory\\report\\repo_sindy-main\\torch_result\\lorenz\\../..\\training.py:20: UserWarning: To copy construct from a tensor, it is recommended to use sourceTensor.clone().detach() or sourceTensor.clone().detach().requires_grad_(True), rather than torch.tensor(sourceTensor).\n",
      "  val_data['dx'] = torch.tensor(val_data['dx'], dtype=torch.float32).to(device)\n",
      "c:\\Users\\zhaox\\OneDrive - Delft University of Technology\\桌面\\Q4\\reproductory\\report\\repo_sindy-main\\torch_result\\lorenz\\../..\\training.py:30: UserWarning: To copy construct from a tensor, it is recommended to use sourceTensor.clone().detach() or sourceTensor.clone().detach().requires_grad_(True), rather than torch.tensor(sourceTensor).\n",
      "  sindy_model_terms = [torch.sum(torch.tensor(params['coefficient_mask'])).cpu().numpy()]\n"
     ]
    },
    {
     "name": "stdout",
     "output_type": "stream",
     "text": [
      "TRAINING\n",
      "Epoch 0\n",
      "   Training Losses:\n",
      "      Total Loss: 0.04153455048799515\n",
      "      decoder Loss: 0.04027920588850975\n",
      "      sindy_z Loss: 552.4452514648438\n",
      "      sindy_x Loss: 12.476449966430664\n",
      "      sindy_regularization Loss: 0.769861102104187\n",
      "   Validation Losses:\n",
      "      Total Loss: 0.04894901067018509\n",
      "      decoder Loss: 0.047151174396276474\n",
      "      sindy_z Loss: 565.3059692382812\n",
      "      sindy_x Loss: 17.90135955810547\n",
      "      sindy_regularization Loss: 0.769861102104187\n",
      "Decoder Loss Ratio: 0.241705, Decoder SINDy Loss Ratio: 1.022961\n",
      "Epoch 1\n",
      "   Training Losses:\n",
      "      Total Loss: 0.0326404944062233\n",
      "      decoder Loss: 0.03143223002552986\n",
      "      sindy_z Loss: 117.81797790527344\n",
      "      sindy_x Loss: 12.01054573059082\n",
      "      sindy_regularization Loss: 0.7208108305931091\n",
      "   Validation Losses:\n",
      "      Total Loss: 0.03895235061645508\n",
      "      decoder Loss: 0.03719209507107735\n",
      "      sindy_z Loss: 134.612060546875\n",
      "      sindy_x Loss: 17.530466079711914\n",
      "      sindy_regularization Loss: 0.7208108305931091\n",
      "Decoder Loss Ratio: 0.190653, Decoder SINDy Loss Ratio: 1.001766\n",
      "THRESHOLDING: 60 active coefficients\n",
      "Epoch 2\n",
      "   Training Losses:\n",
      "      Total Loss: 0.023292118683457375\n",
      "      decoder Loss: 0.02211306244134903\n",
      "      sindy_z Loss: 76.29803466796875\n",
      "      sindy_x Loss: 11.723006248474121\n",
      "      sindy_regularization Loss: 0.6756331920623779\n",
      "   Validation Losses:\n",
      "      Total Loss: 0.02853206731379032\n",
      "      decoder Loss: 0.026814673095941544\n",
      "      sindy_z Loss: 90.8384780883789\n",
      "      sindy_x Loss: 17.10638427734375\n",
      "      sindy_regularization Loss: 0.6756331920623779\n",
      "Decoder Loss Ratio: 0.137457, Decoder SINDy Loss Ratio: 0.977532\n",
      "THRESHOLDING: 59 active coefficients\n",
      "Epoch 3\n",
      "   Training Losses:\n",
      "      Total Loss: 0.011460489593446255\n",
      "      decoder Loss: 0.010358410887420177\n",
      "      sindy_z Loss: 42.420047760009766\n",
      "      sindy_x Loss: 10.965486526489258\n",
      "      sindy_regularization Loss: 0.553028404712677\n",
      "   Validation Losses:\n",
      "      Total Loss: 0.015521805733442307\n",
      "      decoder Loss: 0.013886654749512672\n",
      "      sindy_z Loss: 50.89616012573242\n",
      "      sindy_x Loss: 16.29621124267578\n",
      "      sindy_regularization Loss: 0.553028404712677\n",
      "Decoder Loss Ratio: 0.071185, Decoder SINDy Loss Ratio: 0.931236\n",
      "THRESHOLDING: 51 active coefficients\n",
      "Epoch 4\n",
      "   Training Losses:\n",
      "      Total Loss: 0.009396413341164589\n",
      "      decoder Loss: 0.008376199752092361\n",
      "      sindy_z Loss: 32.220699310302734\n",
      "      sindy_x Loss: 10.148185729980469\n",
      "      sindy_regularization Loss: 0.5395193099975586\n",
      "   Validation Losses:\n",
      "      Total Loss: 0.012941942550241947\n",
      "      decoder Loss: 0.011414150707423687\n",
      "      sindy_z Loss: 43.14401626586914\n",
      "      sindy_x Loss: 15.223971366882324\n",
      "      sindy_regularization Loss: 0.5395193099975586\n",
      "Decoder Loss Ratio: 0.058511, Decoder SINDy Loss Ratio: 0.869963\n",
      "THRESHOLDING: 44 active coefficients\n",
      "REFINEMENT\n",
      "Epoch 0\n",
      "   Training Losses:\n",
      "      Total Loss: 0.004296249244362116\n",
      "      decoder Loss: 0.003919823095202446\n",
      "      sindy_z Loss: 13.596183776855469\n",
      "      sindy_x Loss: 3.7088546752929688\n",
      "      sindy_regularization Loss: 0.5541054010391235\n",
      "   Validation Losses:\n",
      "      Total Loss: 0.011576061137020588\n",
      "      decoder Loss: 0.01012494508177042\n",
      "      sindy_z Loss: 38.03741455078125\n",
      "      sindy_x Loss: 14.455747604370117\n",
      "      sindy_regularization Loss: 0.5541054010391235\n",
      "Decoder Loss Ratio: 0.051902, Decoder SINDy Loss Ratio: 0.826064\n"
     ]
    }
   ],
   "source": [
    "\n",
    "num_experiments = 1\n",
    "df = pd.DataFrame()\n",
    "for i in range(num_experiments):\n",
    "    print('EXPERIMENT %d' % i)\n",
    "\n",
    "    params['coefficient_mask'] = torch.ones((params['library_dim'], params['latent_dim'])).to(\"cuda:0\")\n",
    "\n",
    "    params['save_name'] = 'lorenz_' + datetime.datetime.now().strftime(\"%Y_%m_%d_%H_%M_%S_%f\")\n",
    "\n",
    "    results_dict = train_network(training_data, validation_data, params)\n",
    "    # print(type(df))\n",
    "    # df = df.concat({**results_dict, **params}, ignore_index=True)\n",
    "    df = pd.concat([df, pd.DataFrame([{**results_dict, **params}])], ignore_index=True)\n",
    "\n",
    "df.to_pickle('experiment_results_' + datetime.datetime.now().strftime(\"%Y%m%d%H%M\") + '.pkl')"
   ]
  },
  {
   "cell_type": "markdown",
   "metadata": {},
   "source": []
  }
 ],
 "metadata": {
  "kernelspec": {
   "display_name": "Python 3",
   "language": "python",
   "name": "python3"
  },
  "language_info": {
   "codemirror_mode": {
    "name": "ipython",
    "version": 3
   },
   "file_extension": ".py",
   "mimetype": "text/x-python",
   "name": "python",
   "nbconvert_exporter": "python",
   "pygments_lexer": "ipython3",
   "version": "3.10.13"
  },
  "toc": {
   "base_numbering": 1,
   "nav_menu": {},
   "number_sections": true,
   "sideBar": true,
   "skip_h1_title": false,
   "title_cell": "Table of Contents",
   "title_sidebar": "Contents",
   "toc_cell": false,
   "toc_position": {},
   "toc_section_display": true,
   "toc_window_display": false
  },
  "varInspector": {
   "cols": {
    "lenName": 16,
    "lenType": 16,
    "lenVar": 40
   },
   "kernels_config": {
    "python": {
     "delete_cmd_postfix": "",
     "delete_cmd_prefix": "del ",
     "library": "var_list.py",
     "varRefreshCmd": "print(var_dic_list())"
    },
    "r": {
     "delete_cmd_postfix": ") ",
     "delete_cmd_prefix": "rm(",
     "library": "var_list.r",
     "varRefreshCmd": "cat(var_dic_list()) "
    }
   },
   "types_to_exclude": [
    "module",
    "function",
    "builtin_function_or_method",
    "instance",
    "_Feature"
   ],
   "window_display": false
  }
 },
 "nbformat": 4,
 "nbformat_minor": 2
}
