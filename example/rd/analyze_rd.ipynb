{
 "cells": [
  {
   "cell_type": "code",
   "execution_count": 1,
   "metadata": {},
   "outputs": [],
   "source": [
    "import sys\n",
    "sys.path.append(\"../\")\n",
    "import pandas as pd\n",
    "import numpy as np\n",
    "import matplotlib.pyplot as plt\n",
    "import scipy.io as sio\n",
    "from example_reactiondiffusion import get_rd_data\n",
    "from example_lorenz import generate_lorenz_data, get_lorenz_data\n",
    "import os\n",
    "import pickle\n",
    "from autoencoder import FullNetwork as FullNetwork\n",
    "import torch\n",
    "from training_torch import prepare_data\n",
    "from sindy_utils import sindy_simulate\n",
    "\n",
    "data_path = os.getcwd() + '\\\\'\n",
    "save_name = 'rd_2024_05_29_19_40_26_562696'\n",
    "# save_name = 'model1'\n",
    "params = pickle.load(open(data_path + save_name + '_params.pkl', 'rb'))\n",
    "params['save_name'] = data_path + save_name\n",
    "# dataframe = pd.read_pickle('model1_params.pkl')\n",
    "# print(dataframe)\n",
    "# print(dataframe['coefficient_mask'])\n",
    "\n",
    "def convert_to_cpu_numpy(obj):\n",
    "    \"\"\"\n",
    "    Recursively convert torch.Tensor objects to numpy arrays,\n",
    "    handling dictionaries and lists.\n",
    "    \n",
    "    Parameters:\n",
    "    obj (any): The object to convert, which could be a tensor, list, or dictionary.\n",
    "\n",
    "    Returns:\n",
    "    any: The converted object with tensors replaced by numpy arrays.\n",
    "    \"\"\"\n",
    "    if isinstance(obj, torch.Tensor):\n",
    "        return obj.cpu().numpy()  #\n",
    "    elif isinstance(obj, dict):\n",
    "        #\n",
    "        return {k: convert_to_cpu_numpy(v) for k, v in obj.items()}\n",
    "    elif isinstance(obj, list):\n",
    "        # \n",
    "        return [convert_to_cpu_numpy(v) for v in obj]\n",
    "    else:\n",
    "        return obj  \n",
    "# dataframe['coefficient_mask'] = dataframe['coefficient_mask'].apply(convert_to_cpu_numpy)\n",
    "# dataframe['sindy_coefficients'] = dataframe['sindy_coefficients'].apply(convert_to_cpu_numpy)\n",
    "\n",
    "\n",
    "# Xi_plot = np.array(dataframe['coefficient_mask']*dataframe['sindy_coefficients'])[0]\n",
    "# sindy_coefficients = np.array(dataframe['sindy_coefficients'])[0]\n",
    "# coefficient_mask = np.array(dataframe['coefficient_mask'])[0]\n",
    "# print(dataframe['coefficient_mask'][0])\n",
    "   "
   ]
  },
  {
   "cell_type": "code",
   "execution_count": 2,
   "metadata": {},
   "outputs": [
    {
     "name": "stdout",
     "output_type": "stream",
     "text": [
      "[[ 2.97893945e-04 -1.09254404e-04]\n",
      " [-2.37402768e-04  1.03357887e+00]\n",
      " [ 1.23719292e-06  1.14757830e-04]\n",
      " [ 2.05933582e-04 -1.44632504e-04]\n",
      " [ 1.67639519e-06  6.21585496e-05]\n",
      " [-8.64772301e-05 -7.52980268e-05]\n",
      " [ 3.24941539e-05  5.17045119e-05]\n",
      " [-1.94732231e-04 -3.42745188e-04]\n",
      " [ 7.68819373e-05  5.24390562e-05]\n",
      " [ 8.30761783e-05  1.63013785e-04]\n",
      " [ 1.71422667e-04 -8.54500031e-05]\n",
      " [-8.75020146e-01 -1.19821925e-06]]\n",
      "[[ 2.97893945e-04 -1.09254404e-04]\n",
      " [-2.37402768e-04  1.03357887e+00]\n",
      " [ 1.23719292e-06  1.14757830e-04]\n",
      " [ 2.05933582e-04 -1.44632504e-04]\n",
      " [ 1.67639519e-06  6.21585496e-05]\n",
      " [-8.64772301e-05 -7.52980268e-05]\n",
      " [ 3.24941539e-05  5.17045119e-05]\n",
      " [-1.94732231e-04 -3.42745188e-04]\n",
      " [ 7.68819373e-05  5.24390562e-05]\n",
      " [ 8.30761783e-05  1.63013785e-04]\n",
      " [ 1.71422667e-04 -8.54500031e-05]\n",
      " [-8.75020146e-01 -1.19821925e-06]]\n",
      "[[1. 1.]\n",
      " [1. 1.]\n",
      " [1. 1.]\n",
      " [1. 1.]\n",
      " [1. 1.]\n",
      " [1. 1.]\n",
      " [1. 1.]\n",
      " [1. 1.]\n",
      " [1. 1.]\n",
      " [1. 1.]\n",
      " [1. 1.]\n",
      " [1. 1.]]\n"
     ]
    }
   ],
   "source": [
    "params['device'] = 'cuda:0'\n",
    "autoencoder_network = FullNetwork(params).to(params['device'])\n",
    "path = data_path + 'rd_2024_05_29_19_40_26_562696.pth'\n",
    "state_dict = torch.load(path)\n",
    "# print state_dict values\n",
    "# for key in state_dict:\n",
    "#     print(key)\n",
    "#     print(state_dict[key])\n",
    "autoencoder_network.load_state_dict(state_dict)\n",
    "\n",
    "Xi_plot = np.array(state_dict['coefficient_mask']*state_dict['sindy_coefficients'])\n",
    "print(Xi_plot)\n",
    "sindy_coefficients = np.array(state_dict['sindy_coefficients'])\n",
    "print(sindy_coefficients)\n",
    "coefficient_mask = np.array(state_dict['coefficient_mask'])\n",
    "print(coefficient_mask)"
   ]
  },
  {
   "cell_type": "code",
   "execution_count": 5,
   "metadata": {},
   "outputs": [],
   "source": [
    "_,_,test_data = get_rd_data()"
   ]
  },
  {
   "cell_type": "code",
   "execution_count": 6,
   "metadata": {},
   "outputs": [
    {
     "name": "stderr",
     "output_type": "stream",
     "text": [
      "C:\\Users\\zhaox\\AppData\\Local\\Temp\\ipykernel_24444\\2991981673.py:14: UserWarning: To copy construct from a tensor, it is recommended to use sourceTensor.clone().detach() or sourceTensor.clone().detach().requires_grad_(True), rather than torch.tensor(sourceTensor).\n",
      "  test_dictionary_[key] = torch.tensor(test_dictionary[key]).to(device)\n"
     ]
    }
   ],
   "source": [
    "device = torch.device('cuda' if torch.cuda.is_available() else 'cpu')\n",
    "\n",
    "model = autoencoder_network\n",
    "model.load_state_dict(state_dict)\n",
    "model.eval()  \n",
    "\n",
    "\n",
    "test_dictionary = prepare_data(test_data,params,device)\n",
    "\n",
    "\n",
    "test_dictionary_ = {}\n",
    "for key in test_dictionary:\n",
    "    if key == \"x\" or key ==\"dx\":\n",
    "        test_dictionary_[key] = torch.tensor(test_dictionary[key]).to(device)\n",
    "\n",
    "\n",
    "with torch.no_grad():  \n",
    "    torch_results = model(**test_dictionary_)\n",
    "\n",
    "test_set_results = []\n",
    "for i, output in enumerate(torch_results):\n",
    "    test_set_results.append(output.cpu().detach().numpy())\n",
    "\n",
    "# return z, x_decode, dz, dx_decode, sindy_predict,x, dx, self.sindy_coefficients"
   ]
  },
  {
   "cell_type": "markdown",
   "metadata": {},
   "source": [
    "Single plot"
   ]
  },
  {
   "cell_type": "code",
   "execution_count": 7,
   "metadata": {},
   "outputs": [],
   "source": [
    "z_sim = sindy_simulate(test_set_results[0][0], test_data['t'][:,0],\n",
    "                       params['coefficient_mask']*test_set_results[-1],\n",
    "                       params['poly_order'], params['include_sine'])"
   ]
  },
  {
   "cell_type": "code",
   "execution_count": 9,
   "metadata": {},
   "outputs": [
    {
     "name": "stderr",
     "output_type": "stream",
     "text": [
      "C:\\Users\\zhaox\\AppData\\Local\\Temp\\ipykernel_24444\\4031564177.py:3: UserWarning: color is redundantly defined by the 'color' keyword argument and the fmt string \"k\" (-> color=(0.0, 0.0, 0.0, 1)). The keyword argument will take precedence.\n",
      "  plt.plot(test_set_results[0][:,0], 'k', color='#888888', linewidth=2)\n"
     ]
    },
    {
     "data": {
      "text/plain": [
       "(-49.95, 1048.95, -0.9371182501316071, 0.9419650614261628)"
      ]
     },
     "execution_count": 9,
     "metadata": {},
     "output_type": "execute_result"
    },
    {
     "data": {
      "image/png": "[encoded data removed]",
      "text/plain": [
       "<Figure size 300x200 with 2 Axes>"
      ]
     },
     "metadata": {},
     "output_type": "display_data"
    }
   ],
   "source": [
    "plt.figure(figsize=(3,2))\n",
    "plt.subplot(2,1,1)\n",
    "plt.plot(test_set_results[0][:,0], 'k', color='#888888', linewidth=2)\n",
    "plt.plot(z_sim[:,0], '--', linewidth=2)\n",
    "plt.xticks([])\n",
    "plt.yticks([])\n",
    "plt.axis('off')\n",
    "\n",
    "plt.subplot(2,1,2)\n",
    "plt.plot(test_set_results[0][:,1], color='#888888', linewidth=2)\n",
    "plt.plot(z_sim[:,1], '--', linewidth=2)\n",
    "plt.xticks([])\n",
    "plt.yticks([])\n",
    "plt.axis('off')"
   ]
  },
  {
   "cell_type": "code",
   "execution_count": 10,
   "metadata": {},
   "outputs": [
    {
     "data": {
      "text/plain": [
       "([], [])"
      ]
     },
     "execution_count": 10,
     "metadata": {},
     "output_type": "execute_result"
    },
    {
     "data": {
      "image/png": "[encoded data removed]",
      "text/plain": [
       "<Figure size 300x300 with 1 Axes>"
      ]
     },
     "metadata": {},
     "output_type": "display_data"
    }
   ],
   "source": [
    "plt.figure(figsize=(3,3))\n",
    "plt.plot(z_sim[:,0], z_sim[:,1], linewidth=2)\n",
    "plt.axis('equal')\n",
    "plt.axis('off')\n",
    "plt.xticks([])\n",
    "plt.yticks([])"
   ]
  },
  {
   "cell_type": "code",
   "execution_count": 12,
   "metadata": {},
   "outputs": [
    {
     "name": "stdout",
     "output_type": "stream",
     "text": [
      "Decoder relative error: 0.015798\n",
      "Decoder relative SINDy error: 0.015669\n",
      "SINDy reltive error, z: 0.001844\n"
     ]
    }
   ],
   "source": [
    "# return z, x_decode, dz, dx_decode, sindy_predict,x, dx, self.sindy_coefficients\n",
    "decoder_x_error = np.mean((test_data['x'] - test_set_results[1])**2)/np.mean(test_data['x']**2)\n",
    "decoder_dx_error = np.mean((test_data['dx'] - test_set_results[3])**2)/np.mean(test_data['dx']**2)\n",
    "sindy_dz_error = np.mean((test_set_results[2] - test_set_results[4])**2)/np.mean(test_set_results[2]**2)\n",
    "\n",
    "print('Decoder relative error: %f' % decoder_x_error)\n",
    "print('Decoder relative SINDy error: %f' % decoder_dx_error)\n",
    "print('SINDy reltive error, z: %f' % sindy_dz_error)"
   ]
  }
 ],
 "metadata": {
  "kernelspec": {
   "display_name": "deep_learning",
   "language": "python",
   "name": "python3"
  },
  "language_info": {
   "codemirror_mode": {
    "name": "ipython",
    "version": 3
   },
   "file_extension": ".py",
   "mimetype": "text/x-python",
   "name": "python",
   "nbconvert_exporter": "python",
   "pygments_lexer": "ipython3",
   "version": "3.10.13"
  }
 },
 "nbformat": 4,
 "nbformat_minor": 2
}
